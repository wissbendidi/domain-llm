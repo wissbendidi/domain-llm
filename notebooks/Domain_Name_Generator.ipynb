{
 "cells": [
  {
   "cell_type": "markdown",
   "id": "b8d302f2",
   "metadata": {},
   "source": [
    "# Step 1: Synthetic Dataset Creation\n",
    "\n",
    "We create a small dataset of business descriptions to fine-tune our model."
   ]
  },
  {
   "cell_type": "code",
   "execution_count": 2,
   "id": "ba4e30a3",
   "metadata": {},
   "outputs": [],
   "source": [
    "import pandas as pd\n",
    "import random"
   ]
  },
  {
   "cell_type": "code",
   "execution_count": 3,
   "id": "886cba96",
   "metadata": {},
   "outputs": [
    {
     "data": {
      "text/html": [
       "<div>\n",
       "<style scoped>\n",
       "    .dataframe tbody tr th:only-of-type {\n",
       "        vertical-align: middle;\n",
       "    }\n",
       "\n",
       "    .dataframe tbody tr th {\n",
       "        vertical-align: top;\n",
       "    }\n",
       "\n",
       "    .dataframe thead th {\n",
       "        text-align: right;\n",
       "    }\n",
       "</style>\n",
       "<table border=\"1\" class=\"dataframe\">\n",
       "  <thead>\n",
       "    <tr style=\"text-align: right;\">\n",
       "      <th></th>\n",
       "      <th>business_description</th>\n",
       "    </tr>\n",
       "  </thead>\n",
       "  <tbody>\n",
       "    <tr>\n",
       "      <th>0</th>\n",
       "      <td>marketing firm in Paris</td>\n",
       "    </tr>\n",
       "    <tr>\n",
       "      <th>1</th>\n",
       "      <td>bookstore in Tokyo</td>\n",
       "    </tr>\n",
       "    <tr>\n",
       "      <th>2</th>\n",
       "      <td>flower shop in London</td>\n",
       "    </tr>\n",
       "    <tr>\n",
       "      <th>3</th>\n",
       "      <td>law firm in New York</td>\n",
       "    </tr>\n",
       "    <tr>\n",
       "      <th>4</th>\n",
       "      <td>flower shop in San Francisco</td>\n",
       "    </tr>\n",
       "  </tbody>\n",
       "</table>\n",
       "</div>"
      ],
      "text/plain": [
       "           business_description\n",
       "0       marketing firm in Paris\n",
       "1            bookstore in Tokyo\n",
       "2         flower shop in London\n",
       "3          law firm in New York\n",
       "4  flower shop in San Francisco"
      ]
     },
     "execution_count": 3,
     "metadata": {},
     "output_type": "execute_result"
    }
   ],
   "source": [
    "# Define some sample business types and cities\n",
    "business_types = [\n",
    "    \"coffee shop\", \"law firm\", \"tech startup\", \"fitness studio\", \"pet store\",\n",
    "    \"bookstore\", \"flower shop\", \"bakery\", \"consulting agency\", \"marketing firm\"\n",
    "]\n",
    "\n",
    "cities = [\"New York\", \"London\", \"Paris\", \"Berlin\", \"Tokyo\", \"San Francisco\", \"Dubai\", \"Sydney\"]\n",
    "\n",
    "# Generate 200 synthetic business descriptions\n",
    "dataset = []\n",
    "for _ in range(200):\n",
    "    business = random.choice(business_types)\n",
    "    city = random.choice(cities)\n",
    "    desc = f\"{business} in {city}\"\n",
    "    dataset.append({\"business_description\": desc})\n",
    "\n",
    "# Convert to DataFrame\n",
    "df = pd.DataFrame(dataset)\n",
    "df.head()"
   ]
  },
  {
   "cell_type": "code",
   "execution_count": 4,
   "id": "c54a73ba",
   "metadata": {},
   "outputs": [
    {
     "name": "stdout",
     "output_type": "stream",
     "text": [
      "Synthetic dataset saved to /data/synthetic_dataset.csv\n"
     ]
    }
   ],
   "source": [
    "df.to_csv(\"../data/synthetic_dataset.csv\", index=False)\n",
    "print(\"Synthetic dataset saved to /data/synthetic_dataset.csv\")"
   ]
  },
  {
   "cell_type": "code",
   "execution_count": 5,
   "id": "a5aac0cd",
   "metadata": {},
   "outputs": [],
   "source": [
    "from transformers import AutoModelForCausalLM, AutoTokenizer, TrainingArguments, Trainer, BitsAndBytesConfig\n",
    "from peft import LoraConfig, get_peft_model\n",
    "from datasets import Dataset"
   ]
  },
  {
   "cell_type": "code",
   "execution_count": 6,
   "id": "4581b49e",
   "metadata": {},
   "outputs": [
    {
     "name": "stderr",
     "output_type": "stream",
     "text": [
      "You are using the default legacy behaviour of the <class 'transformers.models.llama.tokenization_llama.LlamaTokenizer'>. This is expected, and simply means that the `legacy` (previous) behavior will be used so nothing changes for you. If you want to use the new behaviour, set `legacy=False`. This should only be set if you understand what it means, and thoroughly read the reason why this was added as explained in https://github.com/huggingface/transformers/pull/24565 - if you loaded a llama tokenizer from a GGUF file you can ignore this message\n"
     ]
    }
   ],
   "source": [
    "# Load tokenizer & base model\n",
    "model_name = \"openlm-research/open_llama_3b\"   # Example; small open LLaMa model\n",
    "tokenizer = AutoTokenizer.from_pretrained(model_name, use_fast=False)\n",
    "\n",
    "# Load dataset\n",
    "data = pd.read_csv(\"../data/synthetic_dataset.csv\")\n",
    "\n",
    "# Add dummy target column: \"domain_name\"\n",
    "data[\"domain_name\"] = data[\"business_description\"].apply(lambda x: x.replace(\" \", \"\") + \".com\")\n",
    "\n",
    "# Convert to HuggingFace dataset\n",
    "hf_dataset = Dataset.from_pandas(data)\n"
   ]
  },
  {
   "cell_type": "code",
   "execution_count": 7,
   "id": "d57c6a94",
   "metadata": {},
   "outputs": [
    {
     "data": {
      "application/vnd.jupyter.widget-view+json": {
       "model_id": "db75c488e19f4e8e975d2730d90913ad",
       "version_major": 2,
       "version_minor": 0
      },
      "text/plain": [
       "Map:   0%|          | 0/200 [00:00<?, ? examples/s]"
      ]
     },
     "metadata": {},
     "output_type": "display_data"
    }
   ],
   "source": [
    "def format_data(example):\n",
    "    prompt = f'Suggest a domain name for: \"{example[\"business_description\"]}\"'\n",
    "    return {\"input_text\": prompt, \"label_text\": example[\"domain_name\"]}\n",
    "\n",
    "hf_dataset = hf_dataset.map(format_data)"
   ]
  },
  {
   "cell_type": "code",
   "execution_count": 8,
   "id": "299ff701",
   "metadata": {},
   "outputs": [
    {
     "data": {
      "text/plain": [
       "{'business_description': 'marketing firm in Paris',\n",
       " 'domain_name': 'marketingfirminParis.com',\n",
       " 'input_text': 'Suggest a domain name for: \"marketing firm in Paris\"',\n",
       " 'label_text': 'marketingfirminParis.com'}"
      ]
     },
     "execution_count": 8,
     "metadata": {},
     "output_type": "execute_result"
    }
   ],
   "source": [
    "hf_dataset[0]"
   ]
  },
  {
   "cell_type": "code",
   "execution_count": null,
   "id": "681d1f5b",
   "metadata": {},
   "outputs": [],
   "source": [
    "trainer.train()\n"
   ]
  }
 ],
 "metadata": {
  "kernelspec": {
   "display_name": "venv",
   "language": "python",
   "name": "python3"
  },
  "language_info": {
   "codemirror_mode": {
    "name": "ipython",
    "version": 3
   },
   "file_extension": ".py",
   "mimetype": "text/x-python",
   "name": "python",
   "nbconvert_exporter": "python",
   "pygments_lexer": "ipython3",
   "version": "3.12.3"
  }
 },
 "nbformat": 4,
 "nbformat_minor": 5
}
